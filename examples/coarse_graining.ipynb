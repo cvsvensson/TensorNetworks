{
 "cells": [
  {
   "cell_type": "code",
   "execution_count": 1,
   "metadata": {},
   "outputs": [
    {
     "name": "stderr",
     "output_type": "stream",
     "text": [
      "┌ Info: Precompiling TensorNetworks [bf05fd6d-b814-440f-8e78-cc5435f5625f]\n",
      "└ @ Base loading.jl:1342\n",
      "WARNING: Method definition permutedims(TensorNetworks.GenericSquareGate{T, N} where N where T, Any) in module TensorNetworks at C:\\Users\\svens\\.julia\\dev\\TensorNetworks\\src\\mpo.jl:10 overwritten at C:\\Users\\svens\\.julia\\dev\\TensorNetworks\\src\\Gate.jl:40.\n",
      "  ** incremental compilation may be fatally broken for this module **\n",
      "\n"
     ]
    }
   ],
   "source": [
    "using TensorNetworks, DoubleFloats, LinearAlgebra, TensorOperations"
   ]
  },
  {
   "cell_type": "code",
   "execution_count": 2,
   "metadata": {},
   "outputs": [
    {
     "data": {
      "text/plain": [
       "TruncationArgs(20, 1.0e-15, true)"
      ]
     },
     "execution_count": 2,
     "metadata": {},
     "output_type": "execute_result"
    }
   ],
   "source": [
    "T = ComplexF64\n",
    "Dmaxhigh = 100;\n",
    "Dmaxlow = 20;\n",
    "tol = 1e-15;\n",
    "d=2\n",
    "truncationhigh = TruncationArgs(Dmaxhigh,tol,true)\n",
    "truncationlow = TruncationArgs(Dmaxlow,tol,true)"
   ]
  },
  {
   "cell_type": "code",
   "execution_count": 3,
   "metadata": {},
   "outputs": [],
   "source": [
    "w, u = TensorNetworks.constr_wu_dim2(T)\n",
    "@tensor U[:] := u[-1, -3, -5, -7] * u[-2, -4, -6, -8]\n",
    "d = size(u, 1)\n",
    "U = Gate(reshape(U, d^2, d^2, d^2, d^2))\n",
    "@tensor W[:] := w[-1, -3, -5] * w[-2, -4, -6]\n",
    "W = reshape(W, d^2, d^2, d^2);"
   ]
  },
  {
   "cell_type": "code",
   "execution_count": 4,
   "metadata": {},
   "outputs": [
    {
     "data": {
      "text/plain": [
       "coarse_grain_uw (generic function with 1 method)"
      ]
     },
     "execution_count": 4,
     "metadata": {},
     "output_type": "execute_result"
    }
   ],
   "source": [
    "function coarse_grain(mps, U, W)\n",
    "    if length(mps) == 1\n",
    "        mps = TensorNetworks.double(mps)\n",
    "    end\n",
    "    mps = TensorNetworks.apply_layers_nonunitary(mps, [[U]])\n",
    "    A = data(mps.Γ[1])\n",
    "    B = data(GenericSite(mps[2],:right))\n",
    "    # lA = mps.Λ[1]\n",
    "    lB = mps.Λ[2]\n",
    "    # B = B*lA\n",
    "    @tensor C[:] := B[-1, ul, c] * W[-2, ul, ur] * A[c, ur, -3]\n",
    "    return UMPS([GenericSite(C,false)], [lB], mps)\n",
    "end\n",
    "coarse_grain_uw(mps) = coarse_grain(mps,U,W)"
   ]
  },
  {
   "cell_type": "code",
   "execution_count": 5,
   "metadata": {},
   "outputs": [
    {
     "data": {
      "text/plain": [
       "MPS: UMPS{ComplexF64}\n",
       "Sites: OrthogonalLinkSite{ComplexF64}\n",
       "Length: 1\n",
       "Truncation: TruncationArgs(100, 1.0e-15, true)"
      ]
     },
     "execution_count": 5,
     "metadata": {},
     "output_type": "execute_result"
    }
   ],
   "source": [
    "A0 = A = B = reshape(\n",
    "    permutedims(\n",
    "        reshape(kron(Matrix{T}(I, d, d), Matrix{T}(I, d, d)), d, d, d, d),\n",
    "        [1, 3, 2, 4]),\n",
    "    d,d^2,d)\n",
    "lA0 = lA = lB = ones(T,d) / sqrt(d)\n",
    "mpshigh = UMPS([A0], [lA0], truncation=truncationhigh)"
   ]
  },
  {
   "cell_type": "code",
   "execution_count": 6,
   "metadata": {},
   "outputs": [
    {
     "data": {
      "text/plain": [
       "MPS: UMPS{ComplexF64}\n",
       "Sites: OrthogonalLinkSite{ComplexF64}\n",
       "Length: 1\n",
       "Truncation: TruncationArgs(100, 1.0e-15, true)"
      ]
     },
     "execution_count": 6,
     "metadata": {},
     "output_type": "execute_result"
    }
   ],
   "source": [
    "target=coarse_grain_uw(coarse_grain_uw(mpshigh))"
   ]
  },
  {
   "cell_type": "code",
   "execution_count": 7,
   "metadata": {},
   "outputs": [
    {
     "data": {
      "text/plain": [
       "MPS: UMPS{ComplexF64}\n",
       "Sites: OrthogonalLinkSite{ComplexF64}\n",
       "Length: 1\n",
       "Truncation: TruncationArgs(20, 1.0e-15, true)"
      ]
     },
     "execution_count": 7,
     "metadata": {},
     "output_type": "execute_result"
    }
   ],
   "source": [
    "mpslow = deepcopy(target)\n",
    "mpslow.truncation = truncationlow\n",
    "guess = TensorNetworks.canonicalize(mpslow)"
   ]
  },
  {
   "cell_type": "code",
   "execution_count": null,
   "metadata": {},
   "outputs": [],
   "source": []
  }
 ],
 "metadata": {
  "kernelspec": {
   "display_name": "Julia 1.6.2",
   "language": "julia",
   "name": "julia-1.6"
  },
  "language_info": {
   "file_extension": ".jl",
   "mimetype": "application/julia",
   "name": "julia",
   "version": "1.6.2"
  },
  "orig_nbformat": 4
 },
 "nbformat": 4,
 "nbformat_minor": 2
}
