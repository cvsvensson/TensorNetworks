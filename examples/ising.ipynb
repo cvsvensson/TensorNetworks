{
 "cells": [
  {
   "cell_type": "markdown",
   "metadata": {},
   "source": [
    "## Ising model\n",
    "\n",
    "In this notebook, we calculate low lying energy eigenstates of an Ising chain using DMRG, and measure some observables in it."
   ]
  },
  {
   "cell_type": "code",
   "execution_count": 1,
   "metadata": {},
   "outputs": [
    {
     "name": "stderr",
     "output_type": "stream",
     "text": [
      "┌ Info: Precompiling TensorNetworks [bf05fd6d-b814-440f-8e78-cc5435f5625f]\n",
      "└ @ Base loading.jl:1342\n"
     ]
    },
    {
     "data": {
      "application/vnd.webio.node+json": {
       "children": [],
       "instanceArgs": {
        "namespace": "html",
        "tag": "div"
       },
       "nodeType": "DOM",
       "props": {},
       "type": "node"
      },
      "text/html": [
       "<div style=\"padding: 1em; background-color: #f8d6da; border: 1px solid #f5c6cb; font-weight: bold;\">\n",
       "<p>The WebIO Jupyter extension was not detected. See the\n",
       "<a href=\"https://juliagizmos.github.io/WebIO.jl/latest/providers/ijulia/\" target=\"_blank\">\n",
       "    WebIO Jupyter integration documentation\n",
       "</a>\n",
       "for more information.\n",
       "</div>\n"
      ],
      "text/plain": [
       "WebIO._IJuliaInit()"
      ]
     },
     "metadata": {},
     "output_type": "display_data"
    },
    {
     "data": {
      "text/plain": [
       "Plots.PlotlyJSBackend()"
      ]
     },
     "execution_count": 1,
     "metadata": {},
     "output_type": "execute_result"
    }
   ],
   "source": [
    "using Plots, TensorNetworks\n",
    "plotlyjs()"
   ]
  },
  {
   "cell_type": "code",
   "execution_count": 2,
   "metadata": {},
   "outputs": [
    {
     "data": {
      "text/plain": [
       "4"
      ]
     },
     "execution_count": 2,
     "metadata": {},
     "output_type": "execute_result"
    }
   ],
   "source": [
    "chain_length = 100\n",
    "physical_dim = 2 \n",
    "Dmax = 50\n",
    "prec = 1e-12\n",
    "truncationTEBD = TruncationArgs(Dmax, prec, true)\n",
    "truncationDMRG = TruncationArgs(Dmax, prec, true)\n",
    "J = 1.0\n",
    "h = .1\n",
    "g = 0; #Small field to break degeneracy\n",
    "\n",
    "Hmpo = IsingMPO(chain_length,J,h,g)\n",
    "Hgates = isingHamGates(chain_length,J,h,g);\n",
    "\n",
    "n_states = 4"
   ]
  },
  {
   "cell_type": "code",
   "execution_count": 3,
   "metadata": {},
   "outputs": [
    {
     "name": "stdout",
     "output_type": "stream",
     "text": [
      "-0.1--0.2--0.3--0.4--0.5--0.6--0.7--0.8--0.9--1.0-"
     ]
    },
    {
     "data": {
      "text/plain": [
       "MPS: OpenMPS{ComplexF64}\n",
       "Sites: OrthogonalLinkSite{ComplexF64}\n",
       "Length: 100\n",
       "Truncation: TruncationArgs(50, 1.0e-12, true)"
      ]
     },
     "execution_count": 3,
     "metadata": {},
     "output_type": "execute_result"
    }
   ],
   "source": [
    "initialmps = randomOpenPVMPS(chain_length,2,Dmax;truncation = truncationTEBD)\n",
    "state = TensorNetworks.imaginaryTEBD(initialmps,Hgates,10,.1)"
   ]
  },
  {
   "cell_type": "code",
   "execution_count": 4,
   "metadata": {},
   "outputs": [
    {
     "name": "stdout",
     "output_type": "stream",
     "text": [
      "E, var = -99.25516289865064, 6.771188054699451e-8\n",
      "E, var, ΔE/E = -99.25516291571873, -2.1827872842550278e-11, -1.71961726351038e-10\n",
      "E, var, ΔE/E = -99.25516291571887, -9.094947017729282e-12, -1.4317496740465735e-15\n",
      "  8.399398 seconds (24.56 M allocations: 1.506 GiB, 4.56% gc time, 49.29% compilation time)\n",
      "E, var = -99.25516289865064, 6.771188054699451e-8\n",
      "E, var, ΔE/E = -99.2551629157195, -5.093170329928398e-11, -1.7196945779927652e-10\n",
      "E, var, ΔE/E = -99.2551629157191, -5.4569682106375694e-12, 4.008899087330396e-15\n",
      "  1.044675 seconds (2.42 M allocations: 291.723 MiB, 6.06% gc time, 26.03% compilation time)\n",
      "E, var = -99.25516289865064, 6.771188054699451e-8\n",
      "E, var, ΔE/E = -97.45311255901314, 8.423765393672511e-6, 0.018491460070567418\n",
      "E, var, ΔE/E = -97.45373321455634, 5.260480975266546e-6, -6.368720034922783e-6\n",
      "E, var, ΔE/E = -97.45401426578206, 1.608656020835042e-6, -2.883936878787472e-6\n",
      "E, var, ΔE/E = -97.454310703751, 7.173530320869759e-7, -3.041814844319883e-6\n",
      "E, var, ΔE/E = -97.45443725778345, 1.7450365703552961e-6, -1.2985969239497523e-6\n",
      "E, var, ΔE/E = -97.45458110862802, 3.1562012736685574e-7, -1.4760808874194882e-6\n",
      "E, var, ΔE/E = -97.45466152442151, 8.854258339852095e-7, -8.251610772941556e-7\n",
      "E, var, ΔE/E = -97.45475461900664, 1.8294485926162452e-7, -9.55259550846276e-7\n",
      "E, var, ΔE/E = -97.45487394479636, 2.5822555471677333e-7, -1.2244209539813696e-6\n",
      "E, var, ΔE/E = -97.45499775830643, 4.426874511409551e-8, -1.2704685538973835e-6\n",
      "E, var, ΔE/E = -97.45504972793908, 2.6702764444053173e-9, -5.332677249226228e-7\n",
      "E, var, ΔE/E = -97.45505301052862, 2.7284841053187847e-11, -3.368311267960066e-8\n",
      "E, var, ΔE/E = -97.45505302181326, -6.002665031701326e-11, -1.157932854938786e-10\n",
      "E, var, ΔE/E = -97.45505302181242, 4.729372449219227e-11, 8.603355107808091e-15\n",
      "  5.090931 seconds (14.41 M allocations: 1.836 GiB, 6.14% gc time, 8.54% compilation time)\n",
      "E, var = -99.25516289865064, 6.771188054699451e-8\n",
      "E, var, ΔE/E = -97.45311194634874, 9.389830665895715e-6, 0.018491466473579497\n",
      "E, var, ΔE/E = -97.45372250680317, 1.989064912777394e-6, -6.2651321953398105e-6\n",
      "E, var, ΔE/E = -97.45407067614033, 4.052953954669647e-6, -3.5726505290409876e-6\n",
      "E, var, ΔE/E = -97.45434536812455, 6.067002686904743e-7, -2.818673535583034e-6\n",
      "E, var, ΔE/E = -97.454519535826, 3.8034886529203504e-7, -1.787169053571132e-6\n",
      "E, var, ΔE/E = -97.45464165034946, 2.557771949796006e-7, -1.2530395822695116e-6\n",
      "E, var, ΔE/E = -97.45474174480813, 1.7493039194960147e-7, -1.027086593032515e-6\n",
      "E, var, ΔE/E = -97.45485583148847, 1.2715827324427664e-7, -1.1706618348329867e-6\n",
      "E, var, ΔE/E = -97.45498691678308, 4.942558007314801e-8, -1.3450855493301237e-6\n",
      "E, var, ΔE/E = -97.45504786857964, 3.2414391171187162e-9, -6.254349865790068e-7\n",
      "E, var, ΔE/E = -97.45505299635312, 1.8189894035458565e-11, -5.261680456050553e-8\n",
      "E, var, ΔE/E = -97.4550530218135, 3.8198777474462986e-11, -2.6125254341483767e-10\n",
      "E, var, ΔE/E = -97.45505302181472, -3.456079866737127e-11, -1.2540483716465735e-14\n",
      "  4.129410 seconds (13.69 M allocations: 1.894 GiB, 6.97% gc time)\n"
     ]
    }
   ],
   "source": [
    "shifter = SubspaceExpand(10.0)\n",
    "initialmps2 = canonicalize(LCROpenMPS(state))\n",
    "set_center!(initialmps2,1)\n",
    "initialmps2.truncation = truncationDMRG\n",
    "states, energies = eigenstates(Hmpo, initialmps2, n_states, precision = prec, shifter = shifter);"
   ]
  },
  {
   "cell_type": "code",
   "execution_count": 5,
   "metadata": {},
   "outputs": [],
   "source": [
    "magGate = Gate(sz)\n",
    "mag = [real.(expectation_values(state, magGate)) for state in states];\n",
    "\n",
    "domainwallGate = Gate(reshape(kron(sz,sz), (2,2,2,2)))\n",
    "domainwall = [real.(1 .- expectation_values(state, domainwallGate))/2 for state in states];\n",
    "\n",
    "es = [real.([expectation_value(state, Hgates[k],k) for k in 1:chain_length-1]) for state in states];\n",
    "\n",
    "entropy = [TensorNetworks.entanglement_entropy(state) for state in states];"
   ]
  },
  {
   "cell_type": "code",
   "execution_count": 6,
   "metadata": {},
   "outputs": [],
   "source": [
    "normalization = sqrt(sum(mag[1])^2 + sum(mag[2])^2)\n",
    "zero_mag_state = (sum(mag[1])/normalization, states[1]) + (sum(mag[2])/normalization,states[2])\n",
    "magzero = real.(expectation_values(zero_mag_state, magGate));"
   ]
  },
  {
   "cell_type": "code",
   "execution_count": 7,
   "metadata": {},
   "outputs": [
    {
     "ename": "LoadError",
     "evalue": "UndefVarError: add_trace! not defined",
     "output_type": "error",
     "traceback": [
      "UndefVarError: add_trace! not defined",
      "",
      "Stacktrace:",
      " [1] top-level scope",
      "   @ In[7]:2",
      " [2] eval",
      "   @ .\\boot.jl:360 [inlined]",
      " [3] include_string(mapexpr::typeof(REPL.softscope), mod::Module, code::String, filename::String)",
      "   @ Base .\\loading.jl:1116"
     ]
    }
   ],
   "source": [
    "pmag = plot(hcat(mag...),xlabel=\"position\", ylabel = \"<Z>\")\n",
    "add_trace!(pmag, plot(magzero))"
   ]
  },
  {
   "cell_type": "code",
   "execution_count": null,
   "metadata": {},
   "outputs": [],
   "source": [
    "plot([magzero], xlabel=\"position\", ylabel = \"<Z>\")"
   ]
  },
  {
   "cell_type": "code",
   "execution_count": null,
   "metadata": {},
   "outputs": [],
   "source": [
    "plot(domainwall, xlabel=\"position\", ylabel = \"Domain wall density\")"
   ]
  },
  {
   "cell_type": "code",
   "execution_count": null,
   "metadata": {},
   "outputs": [],
   "source": [
    "plot(es, xlabel=\"position\", ylabel = \"energy\")"
   ]
  },
  {
   "cell_type": "code",
   "execution_count": null,
   "metadata": {},
   "outputs": [],
   "source": [
    "plot(real.(entropy), xlabel=\"position\", ylabel = \"entanglement entropy\")"
   ]
  },
  {
   "cell_type": "code",
   "execution_count": null,
   "metadata": {},
   "outputs": [],
   "source": []
  }
 ],
 "metadata": {
  "kernelspec": {
   "display_name": "Julia 1.6.2",
   "language": "julia",
   "name": "julia-1.6"
  },
  "language_info": {
   "file_extension": ".jl",
   "mimetype": "application/julia",
   "name": "julia",
   "version": "1.6.2"
  },
  "orig_nbformat": 4
 },
 "nbformat": 4,
 "nbformat_minor": 2
}
